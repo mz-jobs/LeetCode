{
 "cells": [
  {
   "cell_type": "code",
   "execution_count": 55,
   "metadata": {},
   "outputs": [
    {
     "name": "stdout",
     "output_type": "stream",
     "text": [
      "The snakeviz extension is already loaded. To reload it, use:\n",
      "  %reload_ext snakeviz\n",
      "The line_profiler extension is already loaded. To reload it, use:\n",
      "  %reload_ext line_profiler\n"
     ]
    }
   ],
   "source": [
    "%load_ext snakeviz\n",
    "%load_ext line_profiler\n",
    "%load_ext heat"
   ]
  },
  {
   "cell_type": "code",
   "execution_count": 10,
   "metadata": {
    "scrolled": true
   },
   "outputs": [
    {
     "name": "stdout",
     "output_type": "stream",
     "text": [
      "Pixiedust database opened successfully\n",
      "Table VERSION_TRACKER created successfully\n",
      "Table METRICS_TRACKER created successfully\n",
      "\n",
      "Share anonymous install statistics? (opt-out instructions)\n",
      "\n",
      "PixieDust will record metadata on its environment the next time the package is installed or updated. The data is anonymized and aggregated to help plan for future releases, and records only the following values:\n",
      "\n",
      "{\n",
      "   \"data_sent\": currentDate,\n",
      "   \"runtime\": \"python\",\n",
      "   \"application_version\": currentPixiedustVersion,\n",
      "   \"space_id\": nonIdentifyingUniqueId,\n",
      "   \"config\": {\n",
      "       \"repository_id\": \"https://github.com/ibm-watson-data-lab/pixiedust\",\n",
      "       \"target_runtimes\": [\"Data Science Experience\"],\n",
      "       \"event_id\": \"web\",\n",
      "       \"event_organizer\": \"dev-journeys\"\n",
      "   }\n",
      "}\n",
      "You can opt out by calling pixiedust.optOut() in a new cell.\n"
     ]
    },
    {
     "data": {
      "text/html": [
       "\n",
       "        <div style=\"margin:10px\">\n",
       "            <a href=\"https://github.com/ibm-watson-data-lab/pixiedust\" target=\"_new\">\n",
       "                <img src=\"https://github.com/ibm-watson-data-lab/pixiedust/raw/master/docs/_static/pd_icon32.png\" style=\"float:left;margin-right:10px\"/>\n",
       "            </a>\n",
       "            <span>Pixiedust version 1.1.17</span>\n",
       "        </div>\n",
       "        "
      ],
      "text/plain": [
       "<IPython.core.display.HTML object>"
      ]
     },
     "metadata": {},
     "output_type": "display_data"
    },
    {
     "name": "stdout",
     "output_type": "stream",
     "text": [
      "\u001b[31mPixiedust runtime updated. Please restart kernel\u001b[0m\n",
      "Table USER_PREFERENCES created successfully\n",
      "Table service_connections created successfully\n"
     ]
    }
   ],
   "source": [
    "import pixiedust"
   ]
  },
  {
   "cell_type": "code",
   "execution_count": 60,
   "metadata": {},
   "outputs": [],
   "source": [
    "import json\n",
    "with open('testcases/RectangeTest01.txt', 'r') as f:\n",
    "  rectangles = json.load(f)"
   ]
  },
  {
   "cell_type": "code",
   "execution_count": null,
   "metadata": {},
   "outputs": [],
   "source": [
    "import json\n",
    "with open('testcases/RectangeTest02.txt', 'r') as f:\n",
    "  rectangles = json.load(f)"
   ]
  },
  {
   "cell_type": "code",
   "execution_count": 22,
   "metadata": {},
   "outputs": [],
   "source": [
    "from line_profiler import LineProfiler\n",
    "import json\n",
    "from typing import List\n",
    "\n",
    "# Example 1\n",
    "rectangles = [\n",
    "    [1, 1, 3, 3],\n",
    "    [3, 1, 4, 2],\n",
    "    [3, 2, 4, 4],\n",
    "    [1, 3, 2, 4],\n",
    "    [2, 3, 3, 4]\n",
    "]\n",
    "\n",
    "# Example 2\n",
    "# rectangles = [\n",
    "#     [1, 1, 2, 3],\n",
    "#     [1, 3, 2, 4],\n",
    "#     [3, 1, 4, 2],\n",
    "#     [3, 2, 4, 4]\n",
    "# ]\n",
    "\n",
    "# Example 4\n",
    "rectangles = [\n",
    "    [1, 1, 3, 3],\n",
    "    [3, 1, 4, 2],\n",
    "    [1, 3, 2, 4],\n",
    "    [2, 2, 4, 4]\n",
    "]\n",
    "\n",
    "# case 1\n",
    "rectangles = [[1,1,3,3],[3,1,4,2],[3,2,4,4],[1,3,2,4],[2,3,3,4]]\n",
    "\n",
    "# rectangles = [[0, 0, 4, 1], [7, 0, 8, 2], [6, 2, 8, 3], [5, 1, 6, 3], [4, 0, 5, 1], [\n",
    "#     6, 0, 7, 2], [4, 2, 5, 3], [2, 1, 4, 3], [0, 1, 2, 2], [0, 2, 2, 3], [4, 1, 5, 2], [5, 0, 6, 1]]"
   ]
  },
  {
   "cell_type": "code",
   "execution_count": null,
   "metadata": {},
   "outputs": [],
   "source": [
    "def isRectangleCover(rectangles: List[List[int]]) -> bool:\n",
    "  z = zip(*rectangles)\n",
    "  loX = min(z.__next__())\n",
    "  loY = min(z.__next__())\n",
    "  hiX = max(z.__next__())\n",
    "  hiY = max(z.__next__())\n",
    "  # print(loX, loY, hiX, hiY)\n",
    "  # if hiX-loX != hiY-loY:\n",
    "  #   return False\n",
    "\n",
    "  fields = set([(i, j) for i in range(loX, hiX) for j in range(loY, hiY)])\n",
    "\n",
    "  for r in rectangles:\n",
    "    for f in [(i, j) for i in range(r[0], r[2]) for j in range(r[1], r[3])]:\n",
    "      if f not in fields:\n",
    "        return False\n",
    "      fields.remove(f)\n",
    "\n",
    "  return not fields\n",
    "\n",
    "\n",
    "# x = isRectangleCover(rectangles)\n",
    "# print(x)"
   ]
  },
  {
   "cell_type": "code",
   "execution_count": 64,
   "metadata": {},
   "outputs": [
    {
     "data": {
      "text/plain": [
       "3.1424259850010987"
      ]
     },
     "execution_count": 64,
     "metadata": {},
     "output_type": "execute_result"
    }
   ],
   "source": [
    "# %%snakeviz\n",
    "def pi_approximate(n):\n",
    "    step = 1.0 / n\n",
    "    result = 0   \n",
    "    for i in range(n):\n",
    "        x = (i + 0.5) * step\n",
    "        result += 4.0 / (1.0 + x * x)\n",
    "    return step * result\n",
    "pi_approximate(10)"
   ]
  },
  {
   "cell_type": "code",
   "execution_count": 63,
   "metadata": {},
   "outputs": [
    {
     "name": "stdout",
     "output_type": "stream",
     "text": [
      "11000\n",
      "0 0 5500 5501\n"
     ]
    },
    {
     "data": {
      "image/png": "[encoded data removed]",
      "text/plain": [
       "<Figure size 549x840 with 2 Axes>"
      ]
     },
     "metadata": {
      "needs_background": "light"
     },
     "output_type": "display_data"
    }
   ],
   "source": [
    "%%heat\n",
    "import json\n",
    "with open('testcases/RectangeTest01.txt', 'r') as f:\n",
    "  rectangles = json.load(f)\n",
    "\n",
    "\n",
    "def cover0(rectangles):\n",
    "  rectangles.sort()\n",
    "\n",
    "  print(len(rectangles))\n",
    "  z = zip(*rectangles)\n",
    "  loX = min(z.__next__())\n",
    "  loY = min(z.__next__())\n",
    "  hiX = max(z.__next__())\n",
    "  hiY = max(z.__next__())\n",
    "  print(loX, loY, hiX, hiY)\n",
    "\n",
    "  # x = loX\n",
    "  takenRects = []\n",
    "  for x in range(loX, hiX):\n",
    "    while rectangles and rectangles[0][0] <= x:\n",
    "      takenRects.append(rectangles.pop(0))\n",
    "\n",
    "    segs = sorted([(r[1], r[3]) for r in takenRects])\n",
    "    if not segs or segs[0][0] != loY or segs[-1][1] != hiY:\n",
    "      return False\n",
    "    for i in range(1, len(segs)):\n",
    "      if segs[i-1][1] != segs[i][0]:\n",
    "        return False\n",
    "\n",
    "    # del leaving\n",
    "    takenRects = [r for r in takenRects if r[2] > x+1]\n",
    "\n",
    "  return True\n",
    "\n",
    "cover0(rectangles[:])"
   ]
  },
  {
   "cell_type": "code",
   "execution_count": 65,
   "metadata": {},
   "outputs": [
    {
     "name": "stdout",
     "output_type": "stream",
     "text": [
      "11000\n",
      "0 0 5500 5501\n"
     ]
    }
   ],
   "source": [
    "%lprun -f cover0 cover0(rectangles[:])"
   ]
  },
  {
   "cell_type": "code",
   "execution_count": 68,
   "metadata": {},
   "outputs": [
    {
     "name": "stdout",
     "output_type": "stream",
     "text": [
      "11000\n",
      "0 0 5500 5501\n",
      "Wall time: 3.21 s\n"
     ]
    }
   ],
   "source": [
    "%%time\n",
    "def cover_bool_array(rectangles):\n",
    "  rectangles.sort()\n",
    "\n",
    "  print(len(rectangles))\n",
    "  z = zip(*rectangles)\n",
    "  loX = min(z.__next__())\n",
    "  loY = min(z.__next__())\n",
    "  hiX = max(z.__next__())\n",
    "  hiY = max(z.__next__())\n",
    "  print(loX, loY, hiX, hiY)\n",
    "\n",
    "  # x = loX\n",
    "  takenRects = []\n",
    "  col = [False] * (hiY-loY)\n",
    "\n",
    "  for x in range(loX, hiX):\n",
    "    currRects = []\n",
    "    while rectangles and rectangles[0][0] <= x:\n",
    "      currRects.append(rectangles.pop(0))\n",
    "\n",
    "    for r in currRects:\n",
    "      if any(col[r[1]-loY:r[3]-loY]):\n",
    "        return False\n",
    "      col[r[1]-loY:r[3]-loY] = [True] * (r[3]-r[1])\n",
    "\n",
    "    if not all(col):\n",
    "      return False\n",
    "\n",
    "    takenRects += currRects\n",
    "\n",
    "    # mark leaving\n",
    "    for r in takenRects:\n",
    "      if r[2] <= x+1:\n",
    "        col[r[1]-loY:r[3]-loY] = [False] * (r[3]-r[1])\n",
    "\n",
    "    takenRects = [r for r in takenRects if r[2] > x+1]\n",
    "\n",
    "  return True\n",
    "cover_bool_array(rectangles[:])"
   ]
  },
  {
   "cell_type": "code",
   "execution_count": 69,
   "metadata": {
    "pixiedust": {
     "displayParams": {}
    }
   },
   "outputs": [
    {
     "name": "stdout",
     "output_type": "stream",
     "text": [
      "# Rectangles: 11000\n",
      "Size: (0, 0, 5500, 5501)\n",
      "Wall time: 4.93 s\n"
     ]
    }
   ],
   "source": [
    "%%time\n",
    "def cover_set(rectangles):\n",
    "  rectangles.sort()\n",
    "\n",
    "  print(f'# Rectangles: {len(rectangles)}')\n",
    "  z = zip(*rectangles)\n",
    "  loX = min(z.__next__())\n",
    "  loY = min(z.__next__())\n",
    "  hiX = max(z.__next__())\n",
    "  hiY = max(z.__next__())\n",
    "  print(f'Size: {(loX, loY, hiX, hiY)}')\n",
    "\n",
    "  # x = loX\n",
    "  takenRects = []\n",
    "  # col = [False] * (hiY-loY)\n",
    "  col = set()\n",
    "  for x in range(loX, hiX):\n",
    "    currRects = []\n",
    "    while rectangles and rectangles[0][0] <= x:\n",
    "      currRects.append(rectangles.pop(0))\n",
    "\n",
    "    for r in currRects:\n",
    "      s = set(range(r[1], r[3]))\n",
    "      if col.intersection(s):\n",
    "        return False\n",
    "      col = col.union(s)\n",
    "\n",
    "    if len(col) < hiY-loY:\n",
    "      return False\n",
    "\n",
    "    takenRects += currRects\n",
    "\n",
    "    # mark leaving\n",
    "    for r in takenRects:\n",
    "      if r[2] <= x+1:\n",
    "        s = set(range(r[1], r[3]))\n",
    "        col = col - s\n",
    "\n",
    "    takenRects = [r for r in takenRects if r[2] > x+1]\n",
    "\n",
    "  return True\n",
    "cover_set(rectangles[:])"
   ]
  },
  {
   "cell_type": "code",
   "execution_count": 67,
   "metadata": {},
   "outputs": [
    {
     "name": "stdout",
     "output_type": "stream",
     "text": [
      "11000\n",
      "0 0 5500 5501\n",
      "Wall time: 5.73 s\n"
     ]
    }
   ],
   "source": [
    "%%time \n",
    "def cover_segment_set(rectangles):\n",
    "  rectangles.sort()\n",
    "\n",
    "  print(len(rectangles))\n",
    "  z = zip(*rectangles)\n",
    "  loX = min(z.__next__())\n",
    "  loY = min(z.__next__())\n",
    "  hiX = max(z.__next__())\n",
    "  hiY = max(z.__next__())\n",
    "  print(loX, loY, hiX, hiY)\n",
    "\n",
    "  takenRects = []\n",
    "  # col = [False] * (hiY-loY)\n",
    "  segs = []\n",
    "  for x in range(loX, hiX):\n",
    "    currRects = []\n",
    "    while rectangles and rectangles[0][0] <= x:\n",
    "      currRects.append(rectangles.pop(0))\n",
    "    takenRects += currRects\n",
    "    \n",
    "    segs += [(r[1], r[3]) for r in currRects]\n",
    "\n",
    "    if not segs: #or segs[0][0] != loY or segs[-1][1] != hiY:\n",
    "      return False\n",
    "    starts = set([s[0] for s in segs]+[hiY]) \n",
    "    stops = set([s[1] for s in segs]+[loY])\n",
    "    intersections = starts & stops \n",
    "    if len(intersections)-1 != len(segs):\n",
    "      return False\n",
    "\n",
    "    for i in range(len(takenRects)-1,-1,-1):\n",
    "      if takenRects[i][2] == x+1:\n",
    "        segs.remove((takenRects[i][1],takenRects[i][3]))\n",
    "        del takenRects[i]\n",
    "\n",
    "    # del leaving\n",
    "    # takenRects = [r for r in takenRects if r[2] > x+1]\n",
    "\n",
    "  return True\n",
    "cover_segment_set(rectangles[:])"
   ]
  },
  {
   "cell_type": "code",
   "execution_count": null,
   "metadata": {},
   "outputs": [],
   "source": [
    "%%pixie_debugger \n"
   ]
  },
  {
   "cell_type": "code",
   "execution_count": 70,
   "metadata": {},
   "outputs": [],
   "source": [
    "from sortedcontainers import SortedList"
   ]
  },
  {
   "cell_type": "code",
   "execution_count": 76,
   "metadata": {},
   "outputs": [
    {
     "data": {
      "text/plain": [
       "SortedList([(0, 5), (4, 5), (9, 3)])"
      ]
     },
     "execution_count": 76,
     "metadata": {},
     "output_type": "execute_result"
    }
   ],
   "source": [
    "s = SortedList()\n",
    "s.add((4,5))\n",
    "s.add((0,5))\n",
    "s.add((9,3))\n",
    "\n",
    "s"
   ]
  },
  {
   "cell_type": "code",
   "execution_count": 80,
   "metadata": {},
   "outputs": [
    {
     "name": "stdout",
     "output_type": "stream",
     "text": [
      "11000\n",
      "0 0 5500 5501\n",
      "True\n",
      "Wall time: 1.97 s\n"
     ]
    }
   ],
   "source": [
    "%%time\n",
    "from bisect import bisect_right\n",
    "\n",
    "class SegmentCollection:\n",
    "  def __init__(self):\n",
    "    self.s = []\n",
    "  def add(self, el):\n",
    "    pos = bisect_right(self.s,el)\n",
    "    if pos > 0 and self.s[pos-1][1] == el[0] and pos < len(self.s) and self.s[pos][0] == el[1]:\n",
    "      self.s[pos-1][1] = self.s[pos][1]\n",
    "      del self.s[pos]\n",
    "    elif pos > 0 and self.s[pos-1][1] == el[0]:\n",
    "      self.s[pos-1][1] = el[1]\n",
    "    elif pos < len(self.s) - 1 and self.s[pos][0] == el[1]:\n",
    "      self.s[pos][0] = el[0]\n",
    "    else:\n",
    "      self.s.insert(pos,el)\n",
    "  \n",
    "\n",
    "def cover_segment_collection(rectangles):\n",
    "  rectangles.sort()\n",
    "\n",
    "  print(len(rectangles))\n",
    "  z = zip(*rectangles)\n",
    "  loX = min(z.__next__())\n",
    "  loY = min(z.__next__())\n",
    "  hiX = max(z.__next__())\n",
    "  hiY = max(z.__next__())\n",
    "  print(loX, loY, hiX, hiY)\n",
    "\n",
    "  takenRects = []\n",
    "  # col = [False] * (hiY-loY)\n",
    "  missingSegs = SegmentCollection()\n",
    "  missingSegs.add([loY,hiY])\n",
    "\n",
    "  for x in range(loX, hiX):\n",
    "    currRects = []\n",
    "    while rectangles and rectangles[0][0] <= x:\n",
    "      currRects.append(rectangles.pop(0))\n",
    "\n",
    "\n",
    "    segs = SegmentCollection()\n",
    "    for r in currRects:\n",
    "      segs.add([r[1],r[3]])\n",
    "\n",
    "    if str(segs.s) != str(missingSegs.s):\n",
    "      return False\n",
    "\n",
    "    takenRects += currRects\n",
    "    missingSegs.s = []\n",
    "    for i in range(len(takenRects)-1,-1,-1):\n",
    "      if takenRects[i][2] == x+1:\n",
    "        missingSegs.add([takenRects[i][1],takenRects[i][3]])\n",
    "        del takenRects[i]\n",
    "\n",
    "    # del leaving\n",
    "    # takenRects = [r for r in takenRects if r[2] > x+1]\n",
    "\n",
    "  return True\n",
    "\n",
    "\n",
    "with open('testcases/RectangeTest01.txt', 'r') as f:\n",
    "  rectangles = json.load(f)\n",
    "\n",
    "print(cover_segment_collection(rectangles))"
   ]
  },
  {
   "cell_type": "code",
   "execution_count": null,
   "metadata": {},
   "outputs": [],
   "source": []
  }
 ],
 "metadata": {
  "kernelspec": {
   "display_name": "Python 3",
   "language": "python",
   "name": "python3"
  },
  "language_info": {
   "codemirror_mode": {
    "name": "ipython",
    "version": 3
   },
   "file_extension": ".py",
   "mimetype": "text/x-python",
   "name": "python",
   "nbconvert_exporter": "python",
   "pygments_lexer": "ipython3",
   "version": "3.7.3"
  }
 },
 "nbformat": 4,
 "nbformat_minor": 2
}
